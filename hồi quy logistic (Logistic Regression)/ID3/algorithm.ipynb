{
 "metadata": {
  "language_info": {
   "codemirror_mode": {
    "name": "ipython",
    "version": 3
   },
   "file_extension": ".py",
   "mimetype": "text/x-python",
   "name": "python",
   "nbconvert_exporter": "python",
   "pygments_lexer": "ipython3",
   "version": "3.9.4"
  },
  "orig_nbformat": 2,
  "kernelspec": {
   "name": "python394jvsc74a57bd0d48e59252d9a0e71de8e6d04f9a24f8b537110e108e7e45483c6a61ce47d74cb",
   "display_name": "Python 3.9.4 64-bit"
  },
  "metadata": {
   "interpreter": {
    "hash": "d48e59252d9a0e71de8e6d04f9a24f8b537110e108e7e45483c6a61ce47d74cb"
   }
  }
 },
 "nbformat": 4,
 "nbformat_minor": 2,
 "cells": [
  {
   "cell_type": "code",
   "execution_count": 9,
   "metadata": {},
   "outputs": [
    {
     "output_type": "stream",
     "name": "stdout",
     "text": [
      "Requirement already satisfied: chefboost in c:\\users\\rrio\\appdata\\local\\programs\\python\\python39\\lib\\site-packages (0.0.11)Note: you may need to restart the kernel to use updated packages.\n",
      "\n",
      "Requirement already satisfied: tqdm>=4.30.0 in c:\\users\\rrio\\appdata\\local\\programs\\python\\python39\\lib\\site-packages (from chefboost) (4.61.0)\n",
      "Requirement already satisfied: pandas>=0.22.0 in c:\\users\\rrio\\appdata\\local\\programs\\python\\python39\\lib\\site-packages (from chefboost) (1.2.4)\n",
      "Requirement already satisfied: psutil>=5.4.3 in c:\\users\\rrio\\appdata\\local\\programs\\python\\python39\\lib\\site-packages (from chefboost) (5.8.0)\n",
      "Requirement already satisfied: numpy>=1.14.0 in c:\\users\\rrio\\appdata\\local\\programs\\python\\python39\\lib\\site-packages (from chefboost) (1.20.3)\n",
      "Requirement already satisfied: python-dateutil>=2.7.3 in c:\\users\\rrio\\appdata\\roaming\\python\\python39\\site-packages (from pandas>=0.22.0->chefboost) (2.8.1)\n",
      "Requirement already satisfied: pytz>=2017.3 in c:\\users\\rrio\\appdata\\local\\programs\\python\\python39\\lib\\site-packages (from pandas>=0.22.0->chefboost) (2021.1)\n",
      "Requirement already satisfied: six>=1.5 in c:\\users\\rrio\\appdata\\roaming\\python\\python39\\site-packages (from python-dateutil>=2.7.3->pandas>=0.22.0->chefboost) (1.16.0)\n"
     ]
    }
   ],
   "source": [
    "pip install chefboost"
   ]
  },
  {
   "cell_type": "code",
   "execution_count": 10,
   "metadata": {},
   "outputs": [],
   "source": [
    "from chefboost import Chefboost as chef\n",
    "import pandas as pd\n",
    "\n"
   ]
  },
  {
   "cell_type": "code",
   "execution_count": 11,
   "metadata": {},
   "outputs": [
    {
     "output_type": "execute_result",
     "data": {
      "text/plain": [
       "   Decision  LOAN   MORTDUE     VALUE   REASON     JOB   YOJ  DEROG  DELINQ  \\\n",
       "0         1  1700   30548.0   40320.0  HomeImp   Other   9.0    0.0     0.0   \n",
       "1         1  1800   28502.0   43034.0  HomeImp   Other  11.0    0.0     0.0   \n",
       "2         0  2300  102370.0  120953.0  HomeImp  Office   2.0    0.0     0.0   \n",
       "3         1  2400   34863.0   47471.0  HomeImp     Mgr  12.0    0.0     0.0   \n",
       "4         0  2400   98449.0  117195.0  HomeImp  Office   4.0    0.0     0.0   \n",
       "\n",
       "        CLAGE  NINQ  CLNO    DEBTINC  \n",
       "0  101.466002   1.0   8.0  37.113614  \n",
       "1   88.766030   0.0   8.0  36.884894  \n",
       "2   90.992533   0.0  13.0  31.588503  \n",
       "3   70.491080   1.0  21.0  38.263601  \n",
       "4   93.811775   0.0  13.0  29.681827  "
      ],
      "text/html": "<div>\n<style scoped>\n    .dataframe tbody tr th:only-of-type {\n        vertical-align: middle;\n    }\n\n    .dataframe tbody tr th {\n        vertical-align: top;\n    }\n\n    .dataframe thead th {\n        text-align: right;\n    }\n</style>\n<table border=\"1\" class=\"dataframe\">\n  <thead>\n    <tr style=\"text-align: right;\">\n      <th></th>\n      <th>Decision</th>\n      <th>LOAN</th>\n      <th>MORTDUE</th>\n      <th>VALUE</th>\n      <th>REASON</th>\n      <th>JOB</th>\n      <th>YOJ</th>\n      <th>DEROG</th>\n      <th>DELINQ</th>\n      <th>CLAGE</th>\n      <th>NINQ</th>\n      <th>CLNO</th>\n      <th>DEBTINC</th>\n    </tr>\n  </thead>\n  <tbody>\n    <tr>\n      <th>0</th>\n      <td>1</td>\n      <td>1700</td>\n      <td>30548.0</td>\n      <td>40320.0</td>\n      <td>HomeImp</td>\n      <td>Other</td>\n      <td>9.0</td>\n      <td>0.0</td>\n      <td>0.0</td>\n      <td>101.466002</td>\n      <td>1.0</td>\n      <td>8.0</td>\n      <td>37.113614</td>\n    </tr>\n    <tr>\n      <th>1</th>\n      <td>1</td>\n      <td>1800</td>\n      <td>28502.0</td>\n      <td>43034.0</td>\n      <td>HomeImp</td>\n      <td>Other</td>\n      <td>11.0</td>\n      <td>0.0</td>\n      <td>0.0</td>\n      <td>88.766030</td>\n      <td>0.0</td>\n      <td>8.0</td>\n      <td>36.884894</td>\n    </tr>\n    <tr>\n      <th>2</th>\n      <td>0</td>\n      <td>2300</td>\n      <td>102370.0</td>\n      <td>120953.0</td>\n      <td>HomeImp</td>\n      <td>Office</td>\n      <td>2.0</td>\n      <td>0.0</td>\n      <td>0.0</td>\n      <td>90.992533</td>\n      <td>0.0</td>\n      <td>13.0</td>\n      <td>31.588503</td>\n    </tr>\n    <tr>\n      <th>3</th>\n      <td>1</td>\n      <td>2400</td>\n      <td>34863.0</td>\n      <td>47471.0</td>\n      <td>HomeImp</td>\n      <td>Mgr</td>\n      <td>12.0</td>\n      <td>0.0</td>\n      <td>0.0</td>\n      <td>70.491080</td>\n      <td>1.0</td>\n      <td>21.0</td>\n      <td>38.263601</td>\n    </tr>\n    <tr>\n      <th>4</th>\n      <td>0</td>\n      <td>2400</td>\n      <td>98449.0</td>\n      <td>117195.0</td>\n      <td>HomeImp</td>\n      <td>Office</td>\n      <td>4.0</td>\n      <td>0.0</td>\n      <td>0.0</td>\n      <td>93.811775</td>\n      <td>0.0</td>\n      <td>13.0</td>\n      <td>29.681827</td>\n    </tr>\n  </tbody>\n</table>\n</div>"
     },
     "metadata": {},
     "execution_count": 11
    }
   ],
   "source": [
    "df = pd.read_csv(\"hmeq_clean.csv\")\n",
    "df.head()"
   ]
  },
  {
   "cell_type": "code",
   "execution_count": 12,
   "metadata": {},
   "outputs": [
    {
     "output_type": "execute_result",
     "data": {
      "text/plain": [
       "['LOAN',\n",
       " 'MORTDUE',\n",
       " 'VALUE',\n",
       " 'REASON',\n",
       " 'JOB',\n",
       " 'YOJ',\n",
       " 'DEROG',\n",
       " 'DELINQ',\n",
       " 'CLAGE',\n",
       " 'NINQ',\n",
       " 'CLNO',\n",
       " 'DEBTINC',\n",
       " 'Decision']"
      ]
     },
     "metadata": {},
     "execution_count": 12
    }
   ],
   "source": [
    "cols = df.columns.tolist()\n",
    "cols = cols[1:] + cols[:1] \n",
    "cols"
   ]
  },
  {
   "cell_type": "code",
   "execution_count": 19,
   "metadata": {},
   "outputs": [
    {
     "output_type": "stream",
     "name": "stdout",
     "text": [
      "<class 'pandas.core.frame.DataFrame'>\nRangeIndex: 3364 entries, 0 to 3363\nData columns (total 13 columns):\n #   Column    Non-Null Count  Dtype  \n---  ------    --------------  -----  \n 0   LOAN      3364 non-null   int64  \n 1   MORTDUE   3364 non-null   float64\n 2   VALUE     3364 non-null   float64\n 3   REASON    3364 non-null   object \n 4   JOB       3364 non-null   object \n 5   YOJ       3364 non-null   float64\n 6   DEROG     3364 non-null   float64\n 7   DELINQ    3364 non-null   float64\n 8   CLAGE     3364 non-null   float64\n 9   NINQ      3364 non-null   float64\n 10  CLNO      3364 non-null   float64\n 11  DEBTINC   3364 non-null   object \n 12  Decision  3364 non-null   int64  \ndtypes: float64(8), int64(2), object(3)\nmemory usage: 341.8+ KB\n"
     ]
    }
   ],
   "source": [
    "df = df[cols]\n",
    "df.to_csv('hmeq_clean_ID3.csv')\n",
    "df.info()\n"
   ]
  },
  {
   "cell_type": "code",
   "execution_count": 14,
   "metadata": {},
   "outputs": [
    {
     "output_type": "stream",
     "name": "stdout",
     "text": [
      "WARNING: You set the algorithm to  C4.5  but the Decision column of your data set has non-object type.\n",
      "That's why, the algorithm is set to Regression to handle the data set.\n",
      "Regression  tree is going to be built...\n",
      "-------------------------\n",
      "finished in  48.537044048309326  seconds\n",
      "-------------------------\n",
      "Evaluate  train set\n",
      "-------------------------\n",
      "MAE:  0.027645659928656363\n",
      "MSE:  0.024078478002378122\n",
      "RMSE:  0.15517241379310345\n",
      "RAE:  0.5196152422706631\n",
      "RRSE:  0.5444593936480412\n",
      "Mean:  0.089179548156956\n",
      "MAE / Mean:  31.0 %\n",
      "RMSE / Mean:  174.0 %\n"
     ]
    }
   ],
   "source": [
    "df = pd.read_csv(\"hmeq_clean_ID3.csv\")\n",
    "config = {'algorithm': 'C4.5'}\n",
    "model = chef.fit(df, config = config)\n",
    "chef.save_model(model, \"model_C4.5_hmeq_clean.pkl\")"
   ]
  },
  {
   "cell_type": "code",
   "execution_count": 18,
   "metadata": {},
   "outputs": [
    {
     "output_type": "error",
     "ename": "IndexError",
     "evalue": "list index out of range",
     "traceback": [
      "\u001b[1;31m---------------------------------------------------------------------------\u001b[0m",
      "\u001b[1;31mIndexError\u001b[0m                                Traceback (most recent call last)",
      "\u001b[1;32m<ipython-input-18-a7ab48246c2b>\u001b[0m in \u001b[0;36m<module>\u001b[1;34m\u001b[0m\n\u001b[0;32m      1\u001b[0m \u001b[0mmodel\u001b[0m \u001b[1;33m=\u001b[0m \u001b[0mchef\u001b[0m\u001b[1;33m.\u001b[0m\u001b[0mload_model\u001b[0m\u001b[1;33m(\u001b[0m\u001b[1;34m\"model_C4.5_hmeq_clean.pkl\"\u001b[0m\u001b[1;33m)\u001b[0m\u001b[1;33m\u001b[0m\u001b[1;33m\u001b[0m\u001b[0m\n\u001b[1;32m----> 2\u001b[1;33m \u001b[0mprediction1\u001b[0m \u001b[1;33m=\u001b[0m \u001b[0mchef\u001b[0m\u001b[1;33m.\u001b[0m\u001b[0mpredict\u001b[0m\u001b[1;33m(\u001b[0m\u001b[0mmodel\u001b[0m\u001b[1;33m,\u001b[0m\u001b[1;33m[\u001b[0m\u001b[1;36m1700\u001b[0m\u001b[1;33m,\u001b[0m\u001b[1;36m30548\u001b[0m\u001b[1;33m,\u001b[0m\u001b[1;36m40320\u001b[0m\u001b[1;33m,\u001b[0m\u001b[1;34m'HomeImp'\u001b[0m\u001b[1;33m,\u001b[0m\u001b[1;34m'Other'\u001b[0m\u001b[1;33m,\u001b[0m\u001b[1;36m9\u001b[0m\u001b[1;33m,\u001b[0m\u001b[1;36m0\u001b[0m\u001b[1;33m,\u001b[0m\u001b[1;36m0\u001b[0m\u001b[1;33m,\u001b[0m\u001b[1;36m101\u001b[0m\u001b[1;33m,\u001b[0m\u001b[1;36m1\u001b[0m\u001b[1;33m,\u001b[0m\u001b[1;36m8\u001b[0m\u001b[1;33m,\u001b[0m\u001b[1;36m37\u001b[0m\u001b[1;33m]\u001b[0m\u001b[1;33m)\u001b[0m\u001b[1;33m\u001b[0m\u001b[1;33m\u001b[0m\u001b[0m\n\u001b[0m",
      "\u001b[1;32m~\\AppData\\Local\\Programs\\Python\\Python39\\lib\\site-packages\\chefboost\\Chefboost.py\u001b[0m in \u001b[0;36mpredict\u001b[1;34m(model, param)\u001b[0m\n\u001b[0;32m    314\u001b[0m         \u001b[1;32melse\u001b[0m\u001b[1;33m:\u001b[0m \u001b[1;31m#regular decision tree\u001b[0m\u001b[1;33m\u001b[0m\u001b[1;33m\u001b[0m\u001b[0m\n\u001b[0;32m    315\u001b[0m                 \u001b[0mtree\u001b[0m \u001b[1;33m=\u001b[0m \u001b[0mtrees\u001b[0m\u001b[1;33m[\u001b[0m\u001b[1;36m0\u001b[0m\u001b[1;33m]\u001b[0m\u001b[1;33m\u001b[0m\u001b[1;33m\u001b[0m\u001b[0m\n\u001b[1;32m--> 316\u001b[1;33m                 \u001b[0mprediction\u001b[0m \u001b[1;33m=\u001b[0m \u001b[0mtree\u001b[0m\u001b[1;33m.\u001b[0m\u001b[0mfindDecision\u001b[0m\u001b[1;33m(\u001b[0m\u001b[0mparam\u001b[0m\u001b[1;33m)\u001b[0m\u001b[1;33m\u001b[0m\u001b[1;33m\u001b[0m\u001b[0m\n\u001b[0m\u001b[0;32m    317\u001b[0m \u001b[1;33m\u001b[0m\u001b[0m\n\u001b[0;32m    318\u001b[0m         \u001b[1;32mif\u001b[0m \u001b[0mclassification\u001b[0m \u001b[1;33m==\u001b[0m \u001b[1;32mFalse\u001b[0m\u001b[1;33m:\u001b[0m\u001b[1;33m\u001b[0m\u001b[1;33m\u001b[0m\u001b[0m\n",
      "\u001b[1;32mf:\\TuanKhoi\\homework\\jupyter\\hồi quy logistic (Logistic Regression)\\ID3\\outputs/rules/rules.py\u001b[0m in \u001b[0;36mfindDecision\u001b[1;34m(obj)\u001b[0m\n\u001b[0;32m      1\u001b[0m \u001b[1;32mdef\u001b[0m \u001b[0mfindDecision\u001b[0m\u001b[1;33m(\u001b[0m\u001b[0mobj\u001b[0m\u001b[1;33m)\u001b[0m\u001b[1;33m:\u001b[0m \u001b[1;31m#obj[0]: Unnamed: 0, obj[1]: LOAN, obj[2]: MORTDUE, obj[3]: VALUE, obj[4]: REASON, obj[5]: JOB, obj[6]: YOJ, obj[7]: DEROG, obj[8]: DELINQ, obj[9]: CLAGE, obj[10]: NINQ, obj[11]: CLNO, obj[12]: DEBTINC\u001b[0m\u001b[1;33m\u001b[0m\u001b[1;33m\u001b[0m\u001b[0m\n\u001b[0;32m      2\u001b[0m    \u001b[1;31m# {\"feature\": \"DEBTINC\", \"instances\": 3364, \"metric_value\": 0.0198, \"depth\": 1}\u001b[0m\u001b[1;33m\u001b[0m\u001b[1;33m\u001b[0m\u001b[1;33m\u001b[0m\u001b[0m\n\u001b[1;32m----> 3\u001b[1;33m    \u001b[1;32mif\u001b[0m \u001b[0mobj\u001b[0m\u001b[1;33m[\u001b[0m\u001b[1;36m12\u001b[0m\u001b[1;33m]\u001b[0m\u001b[1;33m<=\u001b[0m\u001b[1;36m42.08568211537444\u001b[0m\u001b[1;33m:\u001b[0m\u001b[1;33m\u001b[0m\u001b[1;33m\u001b[0m\u001b[0m\n\u001b[0m\u001b[0;32m      4\u001b[0m       \u001b[1;31m# {\"feature\": \"DELINQ\", \"instances\": 3114, \"metric_value\": 0.0117, \"depth\": 2}\u001b[0m\u001b[1;33m\u001b[0m\u001b[1;33m\u001b[0m\u001b[1;33m\u001b[0m\u001b[0m\n\u001b[0;32m      5\u001b[0m       \u001b[1;32mif\u001b[0m \u001b[0mobj\u001b[0m\u001b[1;33m[\u001b[0m\u001b[1;36m8\u001b[0m\u001b[1;33m]\u001b[0m\u001b[1;33m<=\u001b[0m\u001b[1;36m1.0\u001b[0m\u001b[1;33m:\u001b[0m\u001b[1;33m\u001b[0m\u001b[1;33m\u001b[0m\u001b[0m\n",
      "\u001b[1;31mIndexError\u001b[0m: list index out of range"
     ]
    }
   ],
   "source": [
    "model = chef.load_model(\"model_C4.5_hmeq_clean.pkl\")\n",
    "prediction1 = chef.predict(model, [1700,30548,40320,'HomeImp','Other',9,0,0,101,1,8,37])\n"
   ]
  }
 ]
}