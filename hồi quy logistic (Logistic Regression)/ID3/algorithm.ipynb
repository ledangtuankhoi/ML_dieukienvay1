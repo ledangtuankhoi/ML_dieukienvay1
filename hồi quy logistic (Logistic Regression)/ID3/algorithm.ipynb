{
 "metadata": {
  "language_info": {
   "codemirror_mode": {
    "name": "ipython",
    "version": 3
   },
   "file_extension": ".py",
   "mimetype": "text/x-python",
   "name": "python",
   "nbconvert_exporter": "python",
   "pygments_lexer": "ipython3",
   "version": "3.9.4"
  },
  "orig_nbformat": 2,
  "kernelspec": {
   "name": "python394jvsc74a57bd0d48e59252d9a0e71de8e6d04f9a24f8b537110e108e7e45483c6a61ce47d74cb",
   "display_name": "Python 3.9.4 64-bit"
  },
  "metadata": {
   "interpreter": {
    "hash": "d48e59252d9a0e71de8e6d04f9a24f8b537110e108e7e45483c6a61ce47d74cb"
   }
  }
 },
 "nbformat": 4,
 "nbformat_minor": 2,
 "cells": [
  {
   "cell_type": "code",
   "execution_count": 1,
   "metadata": {},
   "outputs": [
    {
     "output_type": "stream",
     "name": "stdout",
     "text": [
      "Requirement already satisfied: chefboost in c:\\users\\rrio\\appdata\\local\\programs\\python\\python39\\lib\\site-packages (0.0.11)\nRequirement already satisfied: psutil>=5.4.3 in c:\\users\\rrio\\appdata\\local\\programs\\python\\python39\\lib\\site-packages (from chefboost) (5.8.0)\nRequirement already satisfied: pandas>=0.22.0 in c:\\users\\rrio\\appdata\\local\\programs\\python\\python39\\lib\\site-packages (from chefboost) (1.2.4)\nRequirement already satisfied: numpy>=1.14.0 in c:\\users\\rrio\\appdata\\local\\programs\\python\\python39\\lib\\site-packages (from chefboost) (1.20.3)\nRequirement already satisfied: tqdm>=4.30.0 in c:\\users\\rrio\\appdata\\local\\programs\\python\\python39\\lib\\site-packages (from chefboost) (4.61.0)\nRequirement already satisfied: pytz>=2017.3 in c:\\users\\rrio\\appdata\\local\\programs\\python\\python39\\lib\\site-packages (from pandas>=0.22.0->chefboost) (2021.1)\nRequirement already satisfied: python-dateutil>=2.7.3 in c:\\users\\rrio\\appdata\\roaming\\python\\python39\\site-packages (from pandas>=0.22.0->chefboost) (2.8.1)\nRequirement already satisfied: six>=1.5 in c:\\users\\rrio\\appdata\\roaming\\python\\python39\\site-packages (from python-dateutil>=2.7.3->pandas>=0.22.0->chefboost) (1.16.0)\nNote: you may need to restart the kernel to use updated packages.\n"
     ]
    }
   ],
   "source": [
    "pip install chefboost"
   ]
  },
  {
   "cell_type": "code",
   "execution_count": 2,
   "metadata": {},
   "outputs": [
    {
     "output_type": "stream",
     "name": "stdout",
     "text": [
      "Expected: Decision, Existing:  DEBTINC\n"
     ]
    },
    {
     "output_type": "error",
     "ename": "ValueError",
     "evalue": "Please confirm that name of the target column is \"Decision\" and it is put to the right in pandas data frame",
     "traceback": [
      "\u001b[1;31m---------------------------------------------------------------------------\u001b[0m",
      "\u001b[1;31mValueError\u001b[0m                                Traceback (most recent call last)",
      "\u001b[1;32m<ipython-input-2-1949b549fcfa>\u001b[0m in \u001b[0;36m<module>\u001b[1;34m\u001b[0m\n\u001b[0;32m      4\u001b[0m \u001b[0mdf\u001b[0m \u001b[1;33m=\u001b[0m \u001b[0mpd\u001b[0m\u001b[1;33m.\u001b[0m\u001b[0mread_csv\u001b[0m\u001b[1;33m(\u001b[0m\u001b[1;34m\"hmeq_clean.csv\"\u001b[0m\u001b[1;33m)\u001b[0m\u001b[1;33m\u001b[0m\u001b[1;33m\u001b[0m\u001b[0m\n\u001b[0;32m      5\u001b[0m \u001b[0mconfig\u001b[0m \u001b[1;33m=\u001b[0m \u001b[1;33m{\u001b[0m\u001b[1;34m'algorithm'\u001b[0m\u001b[1;33m:\u001b[0m \u001b[1;34m'C4.5'\u001b[0m\u001b[1;33m}\u001b[0m\u001b[1;33m\u001b[0m\u001b[1;33m\u001b[0m\u001b[0m\n\u001b[1;32m----> 6\u001b[1;33m \u001b[0mmodel\u001b[0m \u001b[1;33m=\u001b[0m \u001b[0mchef\u001b[0m\u001b[1;33m.\u001b[0m\u001b[0mfit\u001b[0m\u001b[1;33m(\u001b[0m\u001b[0mdf\u001b[0m\u001b[1;33m,\u001b[0m \u001b[0mconfig\u001b[0m \u001b[1;33m=\u001b[0m \u001b[0mconfig\u001b[0m\u001b[1;33m)\u001b[0m\u001b[1;33m\u001b[0m\u001b[1;33m\u001b[0m\u001b[0m\n\u001b[0m",
      "\u001b[1;32m~\\AppData\\Local\\Programs\\Python\\Python39\\lib\\site-packages\\chefboost\\Chefboost.py\u001b[0m in \u001b[0;36mfit\u001b[1;34m(df, config, validation_df)\u001b[0m\n\u001b[0;32m     52\u001b[0m         \u001b[1;32mif\u001b[0m \u001b[0mtarget_label\u001b[0m \u001b[1;33m!=\u001b[0m \u001b[1;34m'Decision'\u001b[0m\u001b[1;33m:\u001b[0m\u001b[1;33m\u001b[0m\u001b[1;33m\u001b[0m\u001b[0m\n\u001b[0;32m     53\u001b[0m                 \u001b[0mprint\u001b[0m\u001b[1;33m(\u001b[0m\u001b[1;34m\"Expected: Decision, Existing: \"\u001b[0m\u001b[1;33m,\u001b[0m\u001b[0mtarget_label\u001b[0m\u001b[1;33m)\u001b[0m\u001b[1;33m\u001b[0m\u001b[1;33m\u001b[0m\u001b[0m\n\u001b[1;32m---> 54\u001b[1;33m                 \u001b[1;32mraise\u001b[0m \u001b[0mValueError\u001b[0m\u001b[1;33m(\u001b[0m\u001b[1;34m'Please confirm that name of the target column is \"Decision\" and it is put to the right in pandas data frame'\u001b[0m\u001b[1;33m)\u001b[0m\u001b[1;33m\u001b[0m\u001b[1;33m\u001b[0m\u001b[0m\n\u001b[0m\u001b[0;32m     55\u001b[0m \u001b[1;33m\u001b[0m\u001b[0m\n\u001b[0;32m     56\u001b[0m         \u001b[1;31m#------------------------\u001b[0m\u001b[1;33m\u001b[0m\u001b[1;33m\u001b[0m\u001b[1;33m\u001b[0m\u001b[0m\n",
      "\u001b[1;31mValueError\u001b[0m: Please confirm that name of the target column is \"Decision\" and it is put to the right in pandas data frame"
     ]
    }
   ],
   "source": [
    "from chefboost import Chefboost as chef\n",
    "import pandas as pd\n",
    "\n",
    "df = pd.read_csv(\"hmeq_clean.csv\")\n",
    "config = {'algorithm': 'C4.5'}\n",
    "model = chef.fit(df, config = config)"
   ]
  },
  {
   "cell_type": "code",
   "execution_count": null,
   "metadata": {},
   "outputs": [],
   "source": []
  }
 ]
}