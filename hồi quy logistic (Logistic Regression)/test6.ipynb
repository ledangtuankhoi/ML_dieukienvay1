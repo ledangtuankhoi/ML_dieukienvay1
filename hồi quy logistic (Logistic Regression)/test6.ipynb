{
 "metadata": {
  "language_info": {
   "codemirror_mode": {
    "name": "ipython",
    "version": 3
   },
   "file_extension": ".py",
   "mimetype": "text/x-python",
   "name": "python",
   "nbconvert_exporter": "python",
   "pygments_lexer": "ipython3",
   "version": "3.9.4"
  },
  "orig_nbformat": 2,
  "kernelspec": {
   "name": "python394jvsc74a57bd0d48e59252d9a0e71de8e6d04f9a24f8b537110e108e7e45483c6a61ce47d74cb",
   "display_name": "Python 3.9.4 64-bit"
  },
  "metadata": {
   "interpreter": {
    "hash": "d48e59252d9a0e71de8e6d04f9a24f8b537110e108e7e45483c6a61ce47d74cb"
   }
  }
 },
 "nbformat": 4,
 "nbformat_minor": 2,
 "cells": [
  {
   "cell_type": "code",
   "execution_count": 87,
   "metadata": {},
   "outputs": [
    {
     "output_type": "execute_result",
     "data": {
      "text/plain": [
       "                                    Loan ID  Loan Status  Current Loan Amount  \\\n",
       "80099  9ae2b992-efaf-4ece-bed5-9a68677cd977   Fully Paid             550242.0   \n",
       "86881  07fdf57e-10ab-4cab-922b-d4620a3b6e4f   Fully Paid             530684.0   \n",
       "25990  806243db-91d3-4c56-bb43-0e1a02c38c9f  Charged Off             252868.0   \n",
       "63562  0e50e11e-48eb-46b6-be2e-c3711ffb08c0  Charged Off             238304.0   \n",
       "53757  4d42df2e-b455-4f66-ac49-ec98200367cc   Fully Paid             337194.0   \n",
       "\n",
       "             Term  Credit Score  Annual Income Years in current job  \\\n",
       "80099   Long Term         743.0      3264485.0             < 1 year   \n",
       "86881  Short Term         745.0      1852405.0              9 years   \n",
       "25990  Short Term         727.0       664677.0             < 1 year   \n",
       "63562  Short Term         725.0       841928.0               1 year   \n",
       "53757   Long Term         720.0      1682811.0            10+ years   \n",
       "\n",
       "      Home Ownership             Purpose  Monthly Debt  \\\n",
       "80099  Home Mortgage  Debt Consolidation      21464.11   \n",
       "86881  Home Mortgage  Debt Consolidation      19604.58   \n",
       "25990       Own Home               Other       4713.71   \n",
       "63562           Rent  Debt Consolidation      16277.11   \n",
       "53757  Home Mortgage  Debt Consolidation       9872.40   \n",
       "\n",
       "       Years of Credit History  Months since last delinquent  \\\n",
       "80099                     21.7                           2.0   \n",
       "86881                     17.4                          79.0   \n",
       "25990                     23.1                           1.0   \n",
       "63562                     17.3                          29.0   \n",
       "53757                     14.8                          40.0   \n",
       "\n",
       "       Number of Open Accounts  Number of Credit Problems  \\\n",
       "80099                     11.0                        0.0   \n",
       "86881                     10.0                        0.0   \n",
       "25990                      8.0                        0.0   \n",
       "63562                     11.0                        0.0   \n",
       "53757                     10.0                        1.0   \n",
       "\n",
       "       Current Credit Balance  Maximum Open Credit  Bankruptcies  Tax Liens  \n",
       "80099                256272.0             936078.0           0.0        0.0  \n",
       "86881                621072.0            1533334.0           0.0        0.0  \n",
       "25990                 99598.0             779262.0           0.0        0.0  \n",
       "63562                121315.0             212190.0           0.0        0.0  \n",
       "53757                107008.0             400994.0           0.0        1.0  "
      ],
      "text/html": "<div>\n<style scoped>\n    .dataframe tbody tr th:only-of-type {\n        vertical-align: middle;\n    }\n\n    .dataframe tbody tr th {\n        vertical-align: top;\n    }\n\n    .dataframe thead th {\n        text-align: right;\n    }\n</style>\n<table border=\"1\" class=\"dataframe\">\n  <thead>\n    <tr style=\"text-align: right;\">\n      <th></th>\n      <th>Loan ID</th>\n      <th>Loan Status</th>\n      <th>Current Loan Amount</th>\n      <th>Term</th>\n      <th>Credit Score</th>\n      <th>Annual Income</th>\n      <th>Years in current job</th>\n      <th>Home Ownership</th>\n      <th>Purpose</th>\n      <th>Monthly Debt</th>\n      <th>Years of Credit History</th>\n      <th>Months since last delinquent</th>\n      <th>Number of Open Accounts</th>\n      <th>Number of Credit Problems</th>\n      <th>Current Credit Balance</th>\n      <th>Maximum Open Credit</th>\n      <th>Bankruptcies</th>\n      <th>Tax Liens</th>\n    </tr>\n  </thead>\n  <tbody>\n    <tr>\n      <th>80099</th>\n      <td>9ae2b992-efaf-4ece-bed5-9a68677cd977</td>\n      <td>Fully Paid</td>\n      <td>550242.0</td>\n      <td>Long Term</td>\n      <td>743.0</td>\n      <td>3264485.0</td>\n      <td>&lt; 1 year</td>\n      <td>Home Mortgage</td>\n      <td>Debt Consolidation</td>\n      <td>21464.11</td>\n      <td>21.7</td>\n      <td>2.0</td>\n      <td>11.0</td>\n      <td>0.0</td>\n      <td>256272.0</td>\n      <td>936078.0</td>\n      <td>0.0</td>\n      <td>0.0</td>\n    </tr>\n    <tr>\n      <th>86881</th>\n      <td>07fdf57e-10ab-4cab-922b-d4620a3b6e4f</td>\n      <td>Fully Paid</td>\n      <td>530684.0</td>\n      <td>Short Term</td>\n      <td>745.0</td>\n      <td>1852405.0</td>\n      <td>9 years</td>\n      <td>Home Mortgage</td>\n      <td>Debt Consolidation</td>\n      <td>19604.58</td>\n      <td>17.4</td>\n      <td>79.0</td>\n      <td>10.0</td>\n      <td>0.0</td>\n      <td>621072.0</td>\n      <td>1533334.0</td>\n      <td>0.0</td>\n      <td>0.0</td>\n    </tr>\n    <tr>\n      <th>25990</th>\n      <td>806243db-91d3-4c56-bb43-0e1a02c38c9f</td>\n      <td>Charged Off</td>\n      <td>252868.0</td>\n      <td>Short Term</td>\n      <td>727.0</td>\n      <td>664677.0</td>\n      <td>&lt; 1 year</td>\n      <td>Own Home</td>\n      <td>Other</td>\n      <td>4713.71</td>\n      <td>23.1</td>\n      <td>1.0</td>\n      <td>8.0</td>\n      <td>0.0</td>\n      <td>99598.0</td>\n      <td>779262.0</td>\n      <td>0.0</td>\n      <td>0.0</td>\n    </tr>\n    <tr>\n      <th>63562</th>\n      <td>0e50e11e-48eb-46b6-be2e-c3711ffb08c0</td>\n      <td>Charged Off</td>\n      <td>238304.0</td>\n      <td>Short Term</td>\n      <td>725.0</td>\n      <td>841928.0</td>\n      <td>1 year</td>\n      <td>Rent</td>\n      <td>Debt Consolidation</td>\n      <td>16277.11</td>\n      <td>17.3</td>\n      <td>29.0</td>\n      <td>11.0</td>\n      <td>0.0</td>\n      <td>121315.0</td>\n      <td>212190.0</td>\n      <td>0.0</td>\n      <td>0.0</td>\n    </tr>\n    <tr>\n      <th>53757</th>\n      <td>4d42df2e-b455-4f66-ac49-ec98200367cc</td>\n      <td>Fully Paid</td>\n      <td>337194.0</td>\n      <td>Long Term</td>\n      <td>720.0</td>\n      <td>1682811.0</td>\n      <td>10+ years</td>\n      <td>Home Mortgage</td>\n      <td>Debt Consolidation</td>\n      <td>9872.40</td>\n      <td>14.8</td>\n      <td>40.0</td>\n      <td>10.0</td>\n      <td>1.0</td>\n      <td>107008.0</td>\n      <td>400994.0</td>\n      <td>0.0</td>\n      <td>1.0</td>\n    </tr>\n  </tbody>\n</table>\n</div>"
     },
     "metadata": {},
     "execution_count": 87
    }
   ],
   "source": [
    "import sys\n",
    "import numpy as np \n",
    "import pandas as pd\n",
    "import matplotlib.pyplot as plt\n",
    "import seaborn as sns\n",
    "import os\n",
    "from sklearn.linear_model import LogisticRegression\n",
    "from sklearn.model_selection import train_test_split\n",
    "\n",
    "df = pd.read_csv(\"credit_train.csv\\credit_train.csv\")\n",
    "columnNames = pd.Series(df.columns.values) # to check the columns/variables/features present in our data set\n",
    "# xóa những trường thiếu giá trị\n",
    "df.dropna(axis=0, how='any', inplace=True)\n",
    "df = df.drop(['Customer ID'], axis=1)\n",
    "df.sample(5)"
   ]
  },
  {
   "cell_type": "code",
   "execution_count": 88,
   "metadata": {},
   "outputs": [
    {
     "output_type": "execute_result",
     "data": {
      "text/plain": [
       "['Fully Paid', 'Charged Off']"
      ]
     },
     "metadata": {},
     "execution_count": 88
    }
   ],
   "source": [
    "df[\"Loan Status\"].drop_duplicates().tolist()"
   ]
  },
  {
   "cell_type": "code",
   "execution_count": 89,
   "metadata": {},
   "outputs": [
    {
     "output_type": "execute_result",
     "data": {
      "text/plain": [
       "Loan ID                          object\n",
       "Loan Status                      object\n",
       "Current Loan Amount             float64\n",
       "Term                             object\n",
       "Credit Score                    float64\n",
       "Annual Income                   float64\n",
       "Years in current job             object\n",
       "Home Ownership                   object\n",
       "Purpose                          object\n",
       "Monthly Debt                    float64\n",
       "Years of Credit History         float64\n",
       "Months since last delinquent    float64\n",
       "Number of Open Accounts         float64\n",
       "Number of Credit Problems       float64\n",
       "Current Credit Balance          float64\n",
       "Maximum Open Credit             float64\n",
       "Bankruptcies                    float64\n",
       "Tax Liens                       float64\n",
       "dtype: object"
      ]
     },
     "metadata": {},
     "execution_count": 89
    }
   ],
   "source": [
    "df.dtypes"
   ]
  },
  {
   "cell_type": "code",
   "execution_count": 90,
   "metadata": {},
   "outputs": [
    {
     "output_type": "execute_result",
     "data": {
      "text/plain": [
       "                                    Loan ID  Loan Status  Current Loan Amount  \\\n",
       "12164  71105335-50b8-4d34-88f2-d3a442cbc190  Charged Off             772552.0   \n",
       "\n",
       "             Term  Credit Score  Annual Income Years in current job  \\\n",
       "12164  Short Term         721.0      2420961.0               1 year   \n",
       "\n",
       "      Home Ownership             Purpose  Monthly Debt  \\\n",
       "12164  Home Mortgage  Debt Consolidation      43577.26   \n",
       "\n",
       "       Years of Credit History  Months since last delinquent  \\\n",
       "12164                     14.6                          60.0   \n",
       "\n",
       "       Number of Open Accounts  Number of Credit Problems  \\\n",
       "12164                      9.0                        0.0   \n",
       "\n",
       "       Current Credit Balance  Maximum Open Credit  Bankruptcies  Tax Liens  \n",
       "12164                533444.0             631554.0           0.0        0.0  "
      ],
      "text/html": "<div>\n<style scoped>\n    .dataframe tbody tr th:only-of-type {\n        vertical-align: middle;\n    }\n\n    .dataframe tbody tr th {\n        vertical-align: top;\n    }\n\n    .dataframe thead th {\n        text-align: right;\n    }\n</style>\n<table border=\"1\" class=\"dataframe\">\n  <thead>\n    <tr style=\"text-align: right;\">\n      <th></th>\n      <th>Loan ID</th>\n      <th>Loan Status</th>\n      <th>Current Loan Amount</th>\n      <th>Term</th>\n      <th>Credit Score</th>\n      <th>Annual Income</th>\n      <th>Years in current job</th>\n      <th>Home Ownership</th>\n      <th>Purpose</th>\n      <th>Monthly Debt</th>\n      <th>Years of Credit History</th>\n      <th>Months since last delinquent</th>\n      <th>Number of Open Accounts</th>\n      <th>Number of Credit Problems</th>\n      <th>Current Credit Balance</th>\n      <th>Maximum Open Credit</th>\n      <th>Bankruptcies</th>\n      <th>Tax Liens</th>\n    </tr>\n  </thead>\n  <tbody>\n    <tr>\n      <th>12164</th>\n      <td>71105335-50b8-4d34-88f2-d3a442cbc190</td>\n      <td>Charged Off</td>\n      <td>772552.0</td>\n      <td>Short Term</td>\n      <td>721.0</td>\n      <td>2420961.0</td>\n      <td>1 year</td>\n      <td>Home Mortgage</td>\n      <td>Debt Consolidation</td>\n      <td>43577.26</td>\n      <td>14.6</td>\n      <td>60.0</td>\n      <td>9.0</td>\n      <td>0.0</td>\n      <td>533444.0</td>\n      <td>631554.0</td>\n      <td>0.0</td>\n      <td>0.0</td>\n    </tr>\n  </tbody>\n</table>\n</div>"
     },
     "metadata": {},
     "execution_count": 90
    }
   ],
   "source": [
    "# print(df.iloc[2])\n",
    "#lấy dong bởi  loan id\n",
    "df.loc[df['Loan ID'] == '71105335-50b8-4d34-88f2-d3a442cbc190']\n",
    "# df.loc[df['Color'] == 'Green']"
   ]
  },
  {
   "cell_type": "code",
   "execution_count": 91,
   "metadata": {},
   "outputs": [],
   "source": [
    "# df1 = df.drop(['Loan ID'],axis=1)\n",
    "df = pd.get_dummies(df.drop(['Loan ID'],axis=1),drop_first=True)\n",
    "\n",
    "df.dropna(axis=0, how='any', inplace=True)"
   ]
  },
  {
   "cell_type": "code",
   "execution_count": 92,
   "metadata": {},
   "outputs": [
    {
     "output_type": "execute_result",
     "data": {
      "text/plain": [
       "       Current Loan Amount  Credit Score  Annual Income  Monthly Debt  \\\n",
       "4372              515020.0         695.0      1389945.0      19111.72   \n",
       "78279              98186.0         747.0       800242.0      19812.63   \n",
       "68063             199760.0         734.0       862619.0      22140.32   \n",
       "57894           99999999.0         734.0      1459257.0      17875.96   \n",
       "4669              268224.0         716.0       682594.0      10523.15   \n",
       "\n",
       "       Years of Credit History  Months since last delinquent  \\\n",
       "4372                      22.6                           9.0   \n",
       "78279                     19.4                          15.0   \n",
       "68063                     20.2                          24.0   \n",
       "57894                     12.5                          68.0   \n",
       "4669                      11.1                          33.0   \n",
       "\n",
       "       Number of Open Accounts  Number of Credit Problems  \\\n",
       "4372                       8.0                        0.0   \n",
       "78279                     13.0                        0.0   \n",
       "68063                     15.0                        0.0   \n",
       "57894                      8.0                        0.0   \n",
       "4669                      20.0                        0.0   \n",
       "\n",
       "       Current Credit Balance  Maximum Open Credit  ...  \\\n",
       "4372                 510188.0            1038202.0  ...   \n",
       "78279                 73435.0             841852.0  ...   \n",
       "68063                 75563.0             130988.0  ...   \n",
       "57894                123177.0             276386.0  ...   \n",
       "4669                 182248.0             413776.0  ...   \n",
       "\n",
       "       Purpose_Medical Bills  Purpose_Other  Purpose_Take a Trip  \\\n",
       "4372                       0              0                    0   \n",
       "78279                      0              0                    0   \n",
       "68063                      0              0                    0   \n",
       "57894                      0              0                    0   \n",
       "4669                       0              0                    0   \n",
       "\n",
       "       Purpose_major_purchase  Purpose_moving  Purpose_other  \\\n",
       "4372                        0               0              0   \n",
       "78279                       0               0              0   \n",
       "68063                       0               0              1   \n",
       "57894                       0               0              0   \n",
       "4669                        0               0              0   \n",
       "\n",
       "       Purpose_renewable_energy  Purpose_small_business  Purpose_vacation  \\\n",
       "4372                          0                       0                 0   \n",
       "78279                         0                       0                 0   \n",
       "68063                         0                       0                 0   \n",
       "57894                         0                       0                 0   \n",
       "4669                          0                       0                 0   \n",
       "\n",
       "       Purpose_wedding  \n",
       "4372                 0  \n",
       "78279                0  \n",
       "68063                0  \n",
       "57894                0  \n",
       "4669                 0  \n",
       "\n",
       "[5 rows x 42 columns]"
      ],
      "text/html": "<div>\n<style scoped>\n    .dataframe tbody tr th:only-of-type {\n        vertical-align: middle;\n    }\n\n    .dataframe tbody tr th {\n        vertical-align: top;\n    }\n\n    .dataframe thead th {\n        text-align: right;\n    }\n</style>\n<table border=\"1\" class=\"dataframe\">\n  <thead>\n    <tr style=\"text-align: right;\">\n      <th></th>\n      <th>Current Loan Amount</th>\n      <th>Credit Score</th>\n      <th>Annual Income</th>\n      <th>Monthly Debt</th>\n      <th>Years of Credit History</th>\n      <th>Months since last delinquent</th>\n      <th>Number of Open Accounts</th>\n      <th>Number of Credit Problems</th>\n      <th>Current Credit Balance</th>\n      <th>Maximum Open Credit</th>\n      <th>...</th>\n      <th>Purpose_Medical Bills</th>\n      <th>Purpose_Other</th>\n      <th>Purpose_Take a Trip</th>\n      <th>Purpose_major_purchase</th>\n      <th>Purpose_moving</th>\n      <th>Purpose_other</th>\n      <th>Purpose_renewable_energy</th>\n      <th>Purpose_small_business</th>\n      <th>Purpose_vacation</th>\n      <th>Purpose_wedding</th>\n    </tr>\n  </thead>\n  <tbody>\n    <tr>\n      <th>4372</th>\n      <td>515020.0</td>\n      <td>695.0</td>\n      <td>1389945.0</td>\n      <td>19111.72</td>\n      <td>22.6</td>\n      <td>9.0</td>\n      <td>8.0</td>\n      <td>0.0</td>\n      <td>510188.0</td>\n      <td>1038202.0</td>\n      <td>...</td>\n      <td>0</td>\n      <td>0</td>\n      <td>0</td>\n      <td>0</td>\n      <td>0</td>\n      <td>0</td>\n      <td>0</td>\n      <td>0</td>\n      <td>0</td>\n      <td>0</td>\n    </tr>\n    <tr>\n      <th>78279</th>\n      <td>98186.0</td>\n      <td>747.0</td>\n      <td>800242.0</td>\n      <td>19812.63</td>\n      <td>19.4</td>\n      <td>15.0</td>\n      <td>13.0</td>\n      <td>0.0</td>\n      <td>73435.0</td>\n      <td>841852.0</td>\n      <td>...</td>\n      <td>0</td>\n      <td>0</td>\n      <td>0</td>\n      <td>0</td>\n      <td>0</td>\n      <td>0</td>\n      <td>0</td>\n      <td>0</td>\n      <td>0</td>\n      <td>0</td>\n    </tr>\n    <tr>\n      <th>68063</th>\n      <td>199760.0</td>\n      <td>734.0</td>\n      <td>862619.0</td>\n      <td>22140.32</td>\n      <td>20.2</td>\n      <td>24.0</td>\n      <td>15.0</td>\n      <td>0.0</td>\n      <td>75563.0</td>\n      <td>130988.0</td>\n      <td>...</td>\n      <td>0</td>\n      <td>0</td>\n      <td>0</td>\n      <td>0</td>\n      <td>0</td>\n      <td>1</td>\n      <td>0</td>\n      <td>0</td>\n      <td>0</td>\n      <td>0</td>\n    </tr>\n    <tr>\n      <th>57894</th>\n      <td>99999999.0</td>\n      <td>734.0</td>\n      <td>1459257.0</td>\n      <td>17875.96</td>\n      <td>12.5</td>\n      <td>68.0</td>\n      <td>8.0</td>\n      <td>0.0</td>\n      <td>123177.0</td>\n      <td>276386.0</td>\n      <td>...</td>\n      <td>0</td>\n      <td>0</td>\n      <td>0</td>\n      <td>0</td>\n      <td>0</td>\n      <td>0</td>\n      <td>0</td>\n      <td>0</td>\n      <td>0</td>\n      <td>0</td>\n    </tr>\n    <tr>\n      <th>4669</th>\n      <td>268224.0</td>\n      <td>716.0</td>\n      <td>682594.0</td>\n      <td>10523.15</td>\n      <td>11.1</td>\n      <td>33.0</td>\n      <td>20.0</td>\n      <td>0.0</td>\n      <td>182248.0</td>\n      <td>413776.0</td>\n      <td>...</td>\n      <td>0</td>\n      <td>0</td>\n      <td>0</td>\n      <td>0</td>\n      <td>0</td>\n      <td>0</td>\n      <td>0</td>\n      <td>0</td>\n      <td>0</td>\n      <td>0</td>\n    </tr>\n  </tbody>\n</table>\n<p>5 rows × 42 columns</p>\n</div>"
     },
     "metadata": {},
     "execution_count": 92
    }
   ],
   "source": [
    "df.sample(5)"
   ]
  },
  {
   "cell_type": "code",
   "execution_count": 93,
   "metadata": {},
   "outputs": [
    {
     "output_type": "execute_result",
     "data": {
      "text/plain": [
       "Current Loan Amount               float64\n",
       "Credit Score                      float64\n",
       "Annual Income                     float64\n",
       "Monthly Debt                      float64\n",
       "Years of Credit History           float64\n",
       "Months since last delinquent      float64\n",
       "Number of Open Accounts           float64\n",
       "Number of Credit Problems         float64\n",
       "Current Credit Balance            float64\n",
       "Maximum Open Credit               float64\n",
       "Bankruptcies                      float64\n",
       "Tax Liens                         float64\n",
       "Loan Status_Fully Paid              uint8\n",
       "Term_Short Term                     uint8\n",
       "Years in current job_10+ years      uint8\n",
       "Years in current job_2 years        uint8\n",
       "Years in current job_3 years        uint8\n",
       "Years in current job_4 years        uint8\n",
       "Years in current job_5 years        uint8\n",
       "Years in current job_6 years        uint8\n",
       "Years in current job_7 years        uint8\n",
       "Years in current job_8 years        uint8\n",
       "Years in current job_9 years        uint8\n",
       "Years in current job_< 1 year       uint8\n",
       "Home Ownership_Home Mortgage        uint8\n",
       "Home Ownership_Own Home             uint8\n",
       "Home Ownership_Rent                 uint8\n",
       "Purpose_Buy House                   uint8\n",
       "Purpose_Buy a Car                   uint8\n",
       "Purpose_Debt Consolidation          uint8\n",
       "Purpose_Educational Expenses        uint8\n",
       "Purpose_Home Improvements           uint8\n",
       "Purpose_Medical Bills               uint8\n",
       "Purpose_Other                       uint8\n",
       "Purpose_Take a Trip                 uint8\n",
       "Purpose_major_purchase              uint8\n",
       "Purpose_moving                      uint8\n",
       "Purpose_other                       uint8\n",
       "Purpose_renewable_energy            uint8\n",
       "Purpose_small_business              uint8\n",
       "Purpose_vacation                    uint8\n",
       "Purpose_wedding                     uint8\n",
       "dtype: object"
      ]
     },
     "metadata": {},
     "execution_count": 93
    }
   ],
   "source": [
    "df.dtypes"
   ]
  },
  {
   "cell_type": "code",
   "execution_count": 94,
   "metadata": {},
   "outputs": [
    {
     "output_type": "execute_result",
     "data": {
      "text/plain": [
       "       Current Loan Amount  Credit Score  Annual Income  Monthly Debt  \\\n",
       "13742             215292.0         710.0       939075.0      21520.35   \n",
       "89802             420112.0         735.0      1872640.0      20755.03   \n",
       "892               107734.0        7290.0       651301.0       3180.60   \n",
       "64476             354222.0         716.0      4110745.0      38024.32   \n",
       "32537             337326.0         742.0      1883907.0      27316.68   \n",
       "...                    ...           ...            ...           ...   \n",
       "21425             260986.0        7250.0       807690.0      21740.37   \n",
       "77290             224840.0         740.0       776720.0      17734.98   \n",
       "24289             671088.0         720.0      2163758.0      25965.02   \n",
       "37635             368720.0         730.0      1137264.0      11543.26   \n",
       "93867             478852.0         726.0       865070.0      12759.83   \n",
       "\n",
       "       Years of Credit History  Months since last delinquent  \\\n",
       "13742                     23.4                          26.0   \n",
       "89802                     18.6                          70.0   \n",
       "892                       17.5                          17.0   \n",
       "64476                     13.0                          23.0   \n",
       "32537                     15.8                          29.0   \n",
       "...                        ...                           ...   \n",
       "21425                     29.7                           3.0   \n",
       "77290                     14.9                          13.0   \n",
       "24289                     27.6                          30.0   \n",
       "37635                     16.5                          37.0   \n",
       "93867                     19.8                          52.0   \n",
       "\n",
       "       Number of Open Accounts  Number of Credit Problems  \\\n",
       "13742                      9.0                        0.0   \n",
       "89802                      9.0                        0.0   \n",
       "892                        5.0                        0.0   \n",
       "64476                     20.0                        1.0   \n",
       "32537                     12.0                        0.0   \n",
       "...                        ...                        ...   \n",
       "21425                     14.0                        0.0   \n",
       "77290                      5.0                        0.0   \n",
       "24289                     22.0                        0.0   \n",
       "37635                      9.0                        0.0   \n",
       "93867                     18.0                        0.0   \n",
       "\n",
       "       Current Credit Balance  Maximum Open Credit  ...  \\\n",
       "13742                220609.0             795762.0  ...   \n",
       "89802                340974.0             470558.0  ...   \n",
       "892                   65056.0             269038.0  ...   \n",
       "64476                195681.0            1116214.0  ...   \n",
       "32537                291536.0             481558.0  ...   \n",
       "...                       ...                  ...  ...   \n",
       "21425                243637.0             517638.0  ...   \n",
       "77290                 75202.0             132748.0  ...   \n",
       "24289                511537.0            1239128.0  ...   \n",
       "37635                390773.0            1072192.0  ...   \n",
       "93867                379183.0             944218.0  ...   \n",
       "\n",
       "       Purpose_Medical Bills  Purpose_Other  Purpose_Take a Trip  \\\n",
       "13742                      0              0                    0   \n",
       "89802                      0              0                    0   \n",
       "892                        0              0                    0   \n",
       "64476                      0              1                    0   \n",
       "32537                      0              0                    0   \n",
       "...                      ...            ...                  ...   \n",
       "21425                      0              0                    0   \n",
       "77290                      0              0                    0   \n",
       "24289                      0              0                    0   \n",
       "37635                      0              0                    0   \n",
       "93867                      0              0                    0   \n",
       "\n",
       "       Purpose_major_purchase  Purpose_moving  Purpose_other  \\\n",
       "13742                       0               0              0   \n",
       "89802                       0               0              0   \n",
       "892                         1               0              0   \n",
       "64476                       0               0              0   \n",
       "32537                       0               0              0   \n",
       "...                       ...             ...            ...   \n",
       "21425                       0               0              0   \n",
       "77290                       0               0              0   \n",
       "24289                       0               0              0   \n",
       "37635                       0               0              0   \n",
       "93867                       0               0              0   \n",
       "\n",
       "       Purpose_renewable_energy  Purpose_small_business  Purpose_vacation  \\\n",
       "13742                         0                       0                 0   \n",
       "89802                         0                       0                 0   \n",
       "892                           0                       0                 0   \n",
       "64476                         0                       0                 0   \n",
       "32537                         0                       0                 0   \n",
       "...                         ...                     ...               ...   \n",
       "21425                         0                       0                 0   \n",
       "77290                         0                       0                 0   \n",
       "24289                         0                       0                 0   \n",
       "37635                         0                       0                 0   \n",
       "93867                         0                       0                 0   \n",
       "\n",
       "       Purpose_wedding  \n",
       "13742                0  \n",
       "89802                0  \n",
       "892                  0  \n",
       "64476                0  \n",
       "32537                0  \n",
       "...                ...  \n",
       "21425                0  \n",
       "77290                0  \n",
       "24289                0  \n",
       "37635                0  \n",
       "93867                0  \n",
       "\n",
       "[36422 rows x 41 columns]"
      ],
      "text/html": "<div>\n<style scoped>\n    .dataframe tbody tr th:only-of-type {\n        vertical-align: middle;\n    }\n\n    .dataframe tbody tr th {\n        vertical-align: top;\n    }\n\n    .dataframe thead th {\n        text-align: right;\n    }\n</style>\n<table border=\"1\" class=\"dataframe\">\n  <thead>\n    <tr style=\"text-align: right;\">\n      <th></th>\n      <th>Current Loan Amount</th>\n      <th>Credit Score</th>\n      <th>Annual Income</th>\n      <th>Monthly Debt</th>\n      <th>Years of Credit History</th>\n      <th>Months since last delinquent</th>\n      <th>Number of Open Accounts</th>\n      <th>Number of Credit Problems</th>\n      <th>Current Credit Balance</th>\n      <th>Maximum Open Credit</th>\n      <th>...</th>\n      <th>Purpose_Medical Bills</th>\n      <th>Purpose_Other</th>\n      <th>Purpose_Take a Trip</th>\n      <th>Purpose_major_purchase</th>\n      <th>Purpose_moving</th>\n      <th>Purpose_other</th>\n      <th>Purpose_renewable_energy</th>\n      <th>Purpose_small_business</th>\n      <th>Purpose_vacation</th>\n      <th>Purpose_wedding</th>\n    </tr>\n  </thead>\n  <tbody>\n    <tr>\n      <th>13742</th>\n      <td>215292.0</td>\n      <td>710.0</td>\n      <td>939075.0</td>\n      <td>21520.35</td>\n      <td>23.4</td>\n      <td>26.0</td>\n      <td>9.0</td>\n      <td>0.0</td>\n      <td>220609.0</td>\n      <td>795762.0</td>\n      <td>...</td>\n      <td>0</td>\n      <td>0</td>\n      <td>0</td>\n      <td>0</td>\n      <td>0</td>\n      <td>0</td>\n      <td>0</td>\n      <td>0</td>\n      <td>0</td>\n      <td>0</td>\n    </tr>\n    <tr>\n      <th>89802</th>\n      <td>420112.0</td>\n      <td>735.0</td>\n      <td>1872640.0</td>\n      <td>20755.03</td>\n      <td>18.6</td>\n      <td>70.0</td>\n      <td>9.0</td>\n      <td>0.0</td>\n      <td>340974.0</td>\n      <td>470558.0</td>\n      <td>...</td>\n      <td>0</td>\n      <td>0</td>\n      <td>0</td>\n      <td>0</td>\n      <td>0</td>\n      <td>0</td>\n      <td>0</td>\n      <td>0</td>\n      <td>0</td>\n      <td>0</td>\n    </tr>\n    <tr>\n      <th>892</th>\n      <td>107734.0</td>\n      <td>7290.0</td>\n      <td>651301.0</td>\n      <td>3180.60</td>\n      <td>17.5</td>\n      <td>17.0</td>\n      <td>5.0</td>\n      <td>0.0</td>\n      <td>65056.0</td>\n      <td>269038.0</td>\n      <td>...</td>\n      <td>0</td>\n      <td>0</td>\n      <td>0</td>\n      <td>1</td>\n      <td>0</td>\n      <td>0</td>\n      <td>0</td>\n      <td>0</td>\n      <td>0</td>\n      <td>0</td>\n    </tr>\n    <tr>\n      <th>64476</th>\n      <td>354222.0</td>\n      <td>716.0</td>\n      <td>4110745.0</td>\n      <td>38024.32</td>\n      <td>13.0</td>\n      <td>23.0</td>\n      <td>20.0</td>\n      <td>1.0</td>\n      <td>195681.0</td>\n      <td>1116214.0</td>\n      <td>...</td>\n      <td>0</td>\n      <td>1</td>\n      <td>0</td>\n      <td>0</td>\n      <td>0</td>\n      <td>0</td>\n      <td>0</td>\n      <td>0</td>\n      <td>0</td>\n      <td>0</td>\n    </tr>\n    <tr>\n      <th>32537</th>\n      <td>337326.0</td>\n      <td>742.0</td>\n      <td>1883907.0</td>\n      <td>27316.68</td>\n      <td>15.8</td>\n      <td>29.0</td>\n      <td>12.0</td>\n      <td>0.0</td>\n      <td>291536.0</td>\n      <td>481558.0</td>\n      <td>...</td>\n      <td>0</td>\n      <td>0</td>\n      <td>0</td>\n      <td>0</td>\n      <td>0</td>\n      <td>0</td>\n      <td>0</td>\n      <td>0</td>\n      <td>0</td>\n      <td>0</td>\n    </tr>\n    <tr>\n      <th>...</th>\n      <td>...</td>\n      <td>...</td>\n      <td>...</td>\n      <td>...</td>\n      <td>...</td>\n      <td>...</td>\n      <td>...</td>\n      <td>...</td>\n      <td>...</td>\n      <td>...</td>\n      <td>...</td>\n      <td>...</td>\n      <td>...</td>\n      <td>...</td>\n      <td>...</td>\n      <td>...</td>\n      <td>...</td>\n      <td>...</td>\n      <td>...</td>\n      <td>...</td>\n      <td>...</td>\n    </tr>\n    <tr>\n      <th>21425</th>\n      <td>260986.0</td>\n      <td>7250.0</td>\n      <td>807690.0</td>\n      <td>21740.37</td>\n      <td>29.7</td>\n      <td>3.0</td>\n      <td>14.0</td>\n      <td>0.0</td>\n      <td>243637.0</td>\n      <td>517638.0</td>\n      <td>...</td>\n      <td>0</td>\n      <td>0</td>\n      <td>0</td>\n      <td>0</td>\n      <td>0</td>\n      <td>0</td>\n      <td>0</td>\n      <td>0</td>\n      <td>0</td>\n      <td>0</td>\n    </tr>\n    <tr>\n      <th>77290</th>\n      <td>224840.0</td>\n      <td>740.0</td>\n      <td>776720.0</td>\n      <td>17734.98</td>\n      <td>14.9</td>\n      <td>13.0</td>\n      <td>5.0</td>\n      <td>0.0</td>\n      <td>75202.0</td>\n      <td>132748.0</td>\n      <td>...</td>\n      <td>0</td>\n      <td>0</td>\n      <td>0</td>\n      <td>0</td>\n      <td>0</td>\n      <td>0</td>\n      <td>0</td>\n      <td>0</td>\n      <td>0</td>\n      <td>0</td>\n    </tr>\n    <tr>\n      <th>24289</th>\n      <td>671088.0</td>\n      <td>720.0</td>\n      <td>2163758.0</td>\n      <td>25965.02</td>\n      <td>27.6</td>\n      <td>30.0</td>\n      <td>22.0</td>\n      <td>0.0</td>\n      <td>511537.0</td>\n      <td>1239128.0</td>\n      <td>...</td>\n      <td>0</td>\n      <td>0</td>\n      <td>0</td>\n      <td>0</td>\n      <td>0</td>\n      <td>0</td>\n      <td>0</td>\n      <td>0</td>\n      <td>0</td>\n      <td>0</td>\n    </tr>\n    <tr>\n      <th>37635</th>\n      <td>368720.0</td>\n      <td>730.0</td>\n      <td>1137264.0</td>\n      <td>11543.26</td>\n      <td>16.5</td>\n      <td>37.0</td>\n      <td>9.0</td>\n      <td>0.0</td>\n      <td>390773.0</td>\n      <td>1072192.0</td>\n      <td>...</td>\n      <td>0</td>\n      <td>0</td>\n      <td>0</td>\n      <td>0</td>\n      <td>0</td>\n      <td>0</td>\n      <td>0</td>\n      <td>0</td>\n      <td>0</td>\n      <td>0</td>\n    </tr>\n    <tr>\n      <th>93867</th>\n      <td>478852.0</td>\n      <td>726.0</td>\n      <td>865070.0</td>\n      <td>12759.83</td>\n      <td>19.8</td>\n      <td>52.0</td>\n      <td>18.0</td>\n      <td>0.0</td>\n      <td>379183.0</td>\n      <td>944218.0</td>\n      <td>...</td>\n      <td>0</td>\n      <td>0</td>\n      <td>0</td>\n      <td>0</td>\n      <td>0</td>\n      <td>0</td>\n      <td>0</td>\n      <td>0</td>\n      <td>0</td>\n      <td>0</td>\n    </tr>\n  </tbody>\n</table>\n<p>36422 rows × 41 columns</p>\n</div>"
     },
     "metadata": {},
     "execution_count": 94
    }
   ],
   "source": [
    "af_1 = df.drop({'Loan Status_Fully Paid'},axis=1)\n",
    "X_train, X_test,y_train, y_test = train_test_split(af_1,df['Loan Status_Fully Paid'],test_size = 1)\n",
    "X_train"
   ]
  },
  {
   "cell_type": "code",
   "execution_count": 85,
   "metadata": {},
   "outputs": [
    {
     "output_type": "execute_result",
     "data": {
      "text/plain": [
       "1.0"
      ]
     },
     "metadata": {},
     "execution_count": 85
    }
   ],
   "source": [
    "logiRe = LogisticRegression()\n",
    "logiRe.fit(X_train,y_train)\n",
    "logiRe.score(X_test,y_test)"
   ]
  },
  {
   "cell_type": "code",
   "execution_count": null,
   "metadata": {},
   "outputs": [],
   "source": []
  }
 ]
}